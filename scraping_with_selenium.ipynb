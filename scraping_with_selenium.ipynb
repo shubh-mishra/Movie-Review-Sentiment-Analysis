{
 "cells": [
  {
   "cell_type": "code",
   "execution_count": 1,
   "metadata": {},
   "outputs": [],
   "source": [
    "# selenium web driver\n",
    "\n",
    "from selenium import webdriver"
   ]
  },
  {
   "cell_type": "code",
   "execution_count": 6,
   "metadata": {},
   "outputs": [],
   "source": [
    "DRIVER_PATH = \"/tmp/chromedriver\"\n",
    "driver = webdriver.Chrome(executable_path=DRIVER_PATH)"
   ]
  },
  {
   "cell_type": "code",
   "execution_count": 45,
   "metadata": {
    "scrolled": true
   },
   "outputs": [
    {
     "name": "stdout",
     "output_type": "stream",
     "text": [
      "Numerdox\n",
      "Facebook\n",
      "Nordstrom\n",
      "AT&T\n",
      "Square\n",
      "Microsoft\n",
      "Palo Alto Networks\n",
      "winningtemp\n",
      "Edgestream\n",
      "Insurity\n",
      "Pinterest\n",
      "Acorn Analytics\n",
      "Refinitiv\n",
      "Unum\n",
      "UCLA\n"
     ]
    }
   ],
   "source": [
    "from selenium.webdriver.common.keys import Keys\n",
    "from selenium.webdriver.common.by import By\n",
    "\n",
    "DRIVER_PATH = \"/tmp/chromedriver\"\n",
    "options = webdriver.ChromeOptions()\n",
    "options.headless = True\n",
    "driver = webdriver.Chrome(executable_path=DRIVER_PATH, options=options)\n",
    "driver.get(\"https://www.indeed.com/q-data-scientist-jobs.html\")\n",
    "driver.save_screenshot(\"/tmp/indeed_job_opening.png\")\n",
    "jobs = driver.find_elements_by_xpath(\"//div[@data-tn-component='organicJob']\")\n",
    "for job in jobs:\n",
    "    job_title = job.find_elements_by_xpath(\".//a[@data-tn-element='jobTitle']\")[0].text\n",
    "    company_name = job.find_elements_by_xpath(\".//span[@class='company']\")[0].text\n",
    "    print(company_name)"
   ]
  },
  {
   "cell_type": "code",
   "execution_count": 48,
   "metadata": {},
   "outputs": [],
   "source": [
    "from selenium.webdriver.common.keys import Keys\n",
    "from selenium.webdriver.common.by import By\n",
    "\n",
    "DRIVER_PATH = \"/tmp/chromedriver\"\n",
    "options = webdriver.ChromeOptions()\n",
    "options.headless = False\n",
    "driver = webdriver.Chrome(executable_path=DRIVER_PATH, options=options)\n",
    "driver.get(\"https://news.ycombinator.com/login\")\n",
    "login = driver.find_element_by_xpath(\"//input[@name='acct']\")\n",
    "password = driver.find_element_by_xpath(\"//input[@name='pw']\")\n",
    "login.send_keys(\"abhinav1995\")\n",
    "password.send_keys(\"abhinav123\")\n",
    "submit_btn = driver.find_element_by_xpath(\"//input[@value='login']\")\n",
    "submit_btn.click()"
   ]
  },
  {
   "cell_type": "code",
   "execution_count": null,
   "metadata": {},
   "outputs": [],
   "source": []
  }
 ],
 "metadata": {
  "kernelspec": {
   "display_name": "Python 3",
   "language": "python",
   "name": "python3"
  },
  "language_info": {
   "codemirror_mode": {
    "name": "ipython",
    "version": 3
   },
   "file_extension": ".py",
   "mimetype": "text/x-python",
   "name": "python",
   "nbconvert_exporter": "python",
   "pygments_lexer": "ipython3",
   "version": "3.7.4"
  }
 },
 "nbformat": 4,
 "nbformat_minor": 2
}
